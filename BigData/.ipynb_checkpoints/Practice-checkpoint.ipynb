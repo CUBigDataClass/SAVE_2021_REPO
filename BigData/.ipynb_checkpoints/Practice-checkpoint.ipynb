{
 "cells": [
  {
   "cell_type": "code",
   "execution_count": 17,
   "metadata": {},
   "outputs": [],
   "source": [
    "import pandas as pd\n",
    "from pandas import read_csv\n",
    "crimes = read_csv(\"crime.csv\")"
   ]
  },
  {
   "cell_type": "code",
   "execution_count": 18,
   "metadata": {},
   "outputs": [
    {
     "name": "stdout",
     "output_type": "stream",
     "text": [
      "<class 'pandas.core.frame.DataFrame'>\n"
     ]
    }
   ],
   "source": [
    "print(type(crimes))"
   ]
  },
  {
   "cell_type": "code",
   "execution_count": 19,
   "metadata": {},
   "outputs": [
    {
     "name": "stdout",
     "output_type": "stream",
     "text": [
      "   INCIDENT_ID        OFFENSE_ID  OFFENSE_CODE  OFFENSE_CODE_EXTENSION  \\\n",
      "0   2016461725  2016461725549900          5499                       0   \n",
      "1   2016102596  2016102596544100          5441                       0   \n",
      "2   2016361998  2016361998230500          2305                       0   \n",
      "3   2016376067  2016376067544100          5441                       0   \n",
      "4   2016292275  2016292275240400          2404                       0   \n",
      "\n",
      "            OFFENSE_TYPE_ID       OFFENSE_CATEGORY_ID FIRST_OCCURRENCE_DATE  \\\n",
      "0                traf-other          all-other-crimes  7/21/2016 6:40:00 PM   \n",
      "1          traffic-accident          traffic-accident  2/17/2016 6:00:00 PM   \n",
      "2  theft-items-from-vehicle  theft-from-motor-vehicle  6/9/2016 12:28:00 AM   \n",
      "3          traffic-accident          traffic-accident  6/15/2016 4:43:00 PM   \n",
      "4    theft-of-motor-vehicle                auto-theft  5/10/2016 3:00:00 PM   \n",
      "\n",
      "   LAST_OCCURRENCE_DATE         REPORTED_DATE                INCIDENT_ADDRESS  \\\n",
      "0                   NaN  7/21/2016 7:09:00 PM     N COLUMBINE ST / E 48TH AVE   \n",
      "1                   NaN  2/17/2016 6:00:00 PM               4400 N RARITAN ST   \n",
      "2                   NaN   6/9/2016 5:45:00 PM                 2347 N AKRON CT   \n",
      "3                   NaN  6/15/2016 6:20:00 PM              1300 BLOCK 15TH ST   \n",
      "4  5/10/2016 3:15:00 PM  5/10/2016 3:50:00 PM  E HARVARD AVE / S MILWAUKEE ST   \n",
      "\n",
      "       GEO_X      GEO_Y     GEO_LON    GEO_LAT  DISTRICT_ID  PRECINCT_ID  \\\n",
      "0  3152605.0  1710822.0 -104.957009  39.783762          2.0        212.0   \n",
      "1  3138080.0  1708164.0 -105.008741  39.776692          1.0        111.0   \n",
      "2  3173436.0  1699056.0 -104.883175  39.751097          5.0        512.0   \n",
      "3  3140839.0  1697933.0 -104.999126  39.748565          6.0        612.0   \n",
      "4  3154183.0  1669827.0 -104.952274  39.671197          3.0        314.0   \n",
      "\n",
      "   NEIGHBORHOOD_ID  IS_CRIME  IS_TRAFFIC  \n",
      "0   elyria-swansea         1           0  \n",
      "1        sunnyside         0           1  \n",
      "2        stapleton         1           0  \n",
      "3    union-station         0           1  \n",
      "4  university-park         1           0  \n"
     ]
    }
   ],
   "source": [
    "\n",
    "print(crimes.head(5))"
   ]
  },
  {
   "cell_type": "code",
   "execution_count": 20,
   "metadata": {},
   "outputs": [
    {
     "name": "stdout",
     "output_type": "stream",
     "text": [
      "(470414, 19)\n"
     ]
    }
   ],
   "source": [
    "print(crimes.shape)\n"
   ]
  },
  {
   "cell_type": "code",
   "execution_count": 22,
   "metadata": {},
   "outputs": [
    {
     "name": "stdout",
     "output_type": "stream",
     "text": [
      "          REPORTED_DATE           OFFENSE_TYPE_ID\n",
      "0  7/21/2016 7:09:00 PM                traf-other\n",
      "1  2/17/2016 6:00:00 PM          traffic-accident\n",
      "2   6/9/2016 5:45:00 PM  theft-items-from-vehicle\n",
      "3  6/15/2016 6:20:00 PM          traffic-accident\n",
      "4  5/10/2016 3:50:00 PM    theft-of-motor-vehicle\n"
     ]
    }
   ],
   "source": [
    "s = crimes[['REPORTED_DATE','OFFENSE_TYPE_ID']]\n",
    "print(s.head())"
   ]
  },
  {
   "cell_type": "code",
   "execution_count": 23,
   "metadata": {},
   "outputs": [],
   "source": [
    "crime_count = pd.DataFrame(s.groupby('OFFENSE_TYPE_ID').size().sort_values(ascending=False).rename('counts').reset_index())"
   ]
  },
  {
   "cell_type": "code",
   "execution_count": 24,
   "metadata": {},
   "outputs": [
    {
     "name": "stdout",
     "output_type": "stream",
     "text": [
      "                OFFENSE_TYPE_ID  counts\n",
      "0              traffic-accident   77514\n",
      "1  traffic-accident-hit-and-run   33529\n",
      "2        theft-of-motor-vehicle   31352\n",
      "3      theft-items-from-vehicle   29630\n",
      "4                    traf-other   25290\n"
     ]
    }
   ],
   "source": [
    "print(crime_count.head())"
   ]
  },
  {
   "cell_type": "code",
   "execution_count": 25,
   "metadata": {},
   "outputs": [
    {
     "data": {
      "text/plain": [
       "(200, 2)"
      ]
     },
     "execution_count": 25,
     "metadata": {},
     "output_type": "execute_result"
    }
   ],
   "source": [
    "crime_count.shape"
   ]
  },
  {
   "cell_type": "code",
   "execution_count": 28,
   "metadata": {},
   "outputs": [
    {
     "data": {
      "text/plain": [
       "<function matplotlib.pyplot.show(close=None, block=None)>"
      ]
     },
     "execution_count": 28,
     "metadata": {},
     "output_type": "execute_result"
    },
    {
     "data": {
      "image/png": "[encoded data removed]",
      "text/plain": [
       "<Figure size 432x1080 with 1 Axes>"
      ]
     },
     "metadata": {},
     "output_type": "display_data"
    }
   ],
   "source": [
    "import seaborn as sns\n",
    "import matplotlib.pyplot as plt\n",
    "sns.set(style=\"whitegrid\")\n",
    "\n",
    "#Initialize the plot figure\n",
    "fig, ax = plt.subplots(figsize=(6, 15))\n",
    "\n",
    "# Plot the total crashes\n",
    "sns.set_color_codes('pastel')\n",
    "sns.barplot(x = 'counts', y = 'OFFENSE_TYPE_ID', data = crime_count.iloc[:10, :], label = 'Total', color = 'b')\n",
    "\n",
    "ax.legend(ncol = 2, loc = 'lower right', frameon = True)\n",
    "ax.set(ylabel = 'Type', xlabel = 'Crimes')\n",
    "sns.despine(left = True, bottom = True)\n",
    "\n",
    "# Add a legend and informative axis label\n",
    "plt.show"
   ]
  },
  {
   "cell_type": "code",
   "execution_count": 30,
   "metadata": {},
   "outputs": [
    {
     "name": "stdout",
     "output_type": "stream",
     "text": [
      "   NEIGHBORHOOD_ID\n",
      "0   elyria-swansea\n",
      "1        sunnyside\n",
      "2        stapleton\n",
      "3    union-station\n",
      "4  university-park\n"
     ]
    }
   ],
   "source": [
    "n = crimes[['NEIGHBORHOOD_ID']]\n",
    "print(n.head())"
   ]
  },
  {
   "cell_type": "code",
   "execution_count": 31,
   "metadata": {},
   "outputs": [],
   "source": [
    "nbrhd = pd.DataFrame(n.groupby('NEIGHBORHOOD_ID').size().sort_values(ascending=False).rename('counts').reset_index())"
   ]
  },
  {
   "cell_type": "code",
   "execution_count": 32,
   "metadata": {},
   "outputs": [
    {
     "name": "stdout",
     "output_type": "stream",
     "text": [
      "  NEIGHBORHOOD_ID  counts\n",
      "0     five-points   25460\n",
      "1    central-park   19233\n",
      "2    capitol-hill   17020\n",
      "3       montbello   15930\n",
      "4             cbd   15915\n"
     ]
    }
   ],
   "source": [
    "print(nbrhd.head())"
   ]
  },
  {
   "cell_type": "code",
   "execution_count": 33,
   "metadata": {},
   "outputs": [
    {
     "data": {
      "text/plain": [
       "(79, 2)"
      ]
     },
     "execution_count": 33,
     "metadata": {},
     "output_type": "execute_result"
    }
   ],
   "source": [
    "nbrhd.shape"
   ]
  },
  {
   "cell_type": "code",
   "execution_count": 39,
   "metadata": {},
   "outputs": [
    {
     "data": {
      "image/png": "[encoded data removed]",
      "text/plain": [
       "<Figure size 432x1080 with 1 Axes>"
      ]
     },
     "metadata": {},
     "output_type": "display_data"
    }
   ],
   "source": [
    "#Initialize the plot figure\n",
    "fig, ax = plt.subplots(figsize=(6, 15))\n",
    "\n",
    "# Plot the total crashes\n",
    "sns.set_color_codes('pastel')\n",
    "sns.barplot(x = 'counts', y = 'NEIGHBORHOOD_ID', data = nbrhd.iloc[:10, :], label = 'Total', color = 'b')\n",
    "\n",
    "ax.legend(ncol = 2, loc = 'lower right', frameon = True)\n",
    "ax.set(ylabel = 'Type', xlabel = 'Crime/Neighborhoods')\n",
    "sns.despine(left = True, bottom = True)\n",
    "\n",
    "# Add a legend and informative axis label\n",
    "plt.show()"
   ]
  },
  {
   "cell_type": "code",
   "execution_count": null,
   "metadata": {},
   "outputs": [],
   "source": [
    "# ARRESTS\n",
    "arrests_1\n",
    "arrests_2\n",
    "arrests_3\n",
    "arrests_4\n",
    "arrests_5\n",
    "arrests_6\n",
    "arrests_7\n",
    "arrests_8\n",
    "arrests_9\n",
    "arrests_10\n",
    "arrests_11\n",
    "arrests_12"
   ]
  }
 ],
 "metadata": {
  "kernelspec": {
   "display_name": "Python 3",
   "language": "python",
   "name": "python3"
  },
  "language_info": {
   "codemirror_mode": {
    "name": "ipython",
    "version": 3
   },
   "file_extension": ".py",
   "mimetype": "text/x-python",
   "name": "python",
   "nbconvert_exporter": "python",
   "pygments_lexer": "ipython3",
   "version": "3.8.5"
  }
 },
 "nbformat": 4,
 "nbformat_minor": 4
}
